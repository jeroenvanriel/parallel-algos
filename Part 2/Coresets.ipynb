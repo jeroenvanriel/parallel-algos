{
 "cells": [
  {
   "cell_type": "code",
   "execution_count": 69,
   "id": "ebcceec5",
   "metadata": {},
   "outputs": [],
   "source": [
    "import os, math, csv, time, random\n",
    "\n",
    "from sklearn.cluster import KMeans\n",
    "from sklearn.datasets import make_circles, make_moons, make_blobs, make_swiss_roll, make_s_curve\n",
    "\n",
    "import matplotlib.pyplot as plt\n",
    "import numpy as np\n",
    "import scipy.spatial\n",
    "\n",
    "from pyspark import RDD, SparkConf, SparkContext"
   ]
  },
  {
   "cell_type": "code",
   "execution_count": 70,
   "id": "ec927b6e",
   "metadata": {},
   "outputs": [],
   "source": [
    "def dist(p1, p2):\n",
    "    \"\"\"Euclidean distance.\"\"\"\n",
    "    sub = [a_i - b_i for a_i, b_i in zip(p1, p2)]\n",
    "    return np.linalg.norm(sub,2)"
   ]
  },
  {
   "cell_type": "markdown",
   "id": "27f87ec6",
   "metadata": {},
   "source": [
    "# Coreset using k-means++ initialization"
   ]
  },
  {
   "cell_type": "code",
   "execution_count": 83,
   "id": "a2a9a7a3",
   "metadata": {},
   "outputs": [],
   "source": [
    "def k_means_plus_plus(pointset, k):\n",
    "    \"\"\"Sample centroids using kMeans++ initialization.\n",
    "    \n",
    "    Returns\n",
    "      centroids:  list of coordinates.\n",
    "      distances:  list of tuples (distance, closest center)\n",
    "        of each point's closest center and the distance towards it.\n",
    "      cost:  cost of the calculated initial clustering.\n",
    "    \"\"\"\n",
    "\n",
    "    n = len(pointset)\n",
    "\n",
    "    # for each point (distance, closest center)\n",
    "    # distance to it's closest center, -1 means +infty\n",
    "    distances = [(-1, None) for _ in range(n)]\n",
    "\n",
    "    # cumulative sum of squared distances\n",
    "    cumulative = [0 for _ in range(n)]\n",
    "    \n",
    "    def update(centroid):\n",
    "        # update the closest centers and distances\n",
    "        for j in range(n):\n",
    "            x = dist(centroid, pointset[j])\n",
    "            if x < distances[j][0] or distances[j][0] == -1:\n",
    "                distances[j] = (x, centroid)\n",
    "        \n",
    "        # compute cumulative sum of squared distances\n",
    "        cumulative[0] = distances[0][0] * distances[0][0]\n",
    "        for j in range(1, n):\n",
    "            cumulative[j] = cumulative[j-1] + distances[j][0] * distances[j][0]\n",
    "\n",
    "    # sample first centroid uniformly at random\n",
    "    centroids = [pointset[random.randint(0, n-1)]]\n",
    "            \n",
    "    # sample remaining k-1 centroids\n",
    "    for i in range(1, k):\n",
    "        update(centroids[i-1])\n",
    "\n",
    "        # sample next centroid using cumulative sum\n",
    "        x = random.random() * cumulative[-1]\n",
    "\n",
    "        if x <= cumulative[0]:\n",
    "            centroids.append(pointset[0])\n",
    "        else:\n",
    "            for j in range(1,n):\n",
    "                if cumulative[j-1] < x <= cumulative[j]:\n",
    "                    centroids.append(pointset[j])               \n",
    "    \n",
    "    # make sure to update for last added centroid\n",
    "    update(centroids[-1])\n",
    "\n",
    "    return centroids, distances, cumulative[-1]"
   ]
  },
  {
   "cell_type": "code",
   "execution_count": 84,
   "id": "ed336760",
   "metadata": {},
   "outputs": [],
   "source": [
    "points = np.random.rand(50, 2)\n",
    "centroids, distances, cost = k_means_plus_plus(points, 5)\n",
    "\n",
    "def _calculate_cost_brute(points, centroids):\n",
    "    \"\"\"For testing purposes.\"\"\"\n",
    "    total = 0\n",
    "    for p in points:\n",
    "        min_dist = -1\n",
    "        for c in centroids:\n",
    "            x = dist(p, c)\n",
    "            if x < min_dist or min_dist == -1:\n",
    "                min_dist = x\n",
    "        \n",
    "        total += min_dist * min_dist\n",
    "    \n",
    "    return total\n",
    "\n",
    "assert _calculate_cost_brute(points, centroids) == cost"
   ]
  },
  {
   "cell_type": "code",
   "execution_count": 86,
   "id": "5ef43261",
   "metadata": {},
   "outputs": [],
   "source": [
    "points = np.random.rand(50, 2)\n",
    "k = 5\n",
    "\n",
    "centroids, distances, cost = k_means_plus_plus(points, k)\n",
    "\n",
    "kmeans = KMeans(n_clusters=k, random_state=0).fit(points)\n",
    "X_label = kmeans.labels_\n",
    "ball_center = kmeans.cluster_centers_\n",
    "km_cost = kmeans.inertia_ # Inertia = squared sum"
   ]
  },
  {
   "cell_type": "code",
   "execution_count": 87,
   "id": "948bebd2",
   "metadata": {},
   "outputs": [],
   "source": [
    "def coreset(pointset, k, eps = 0.1):\n",
    "    X = list(pointset).copy()\n",
    "    \n",
    "    a = 1 # IDK waar die a vandaan komt, en welke waarde dat ie moet hebben\n",
    "    d = 2 # dimensinality\n",
    "\n",
    "    kmeans = KMeans(n_clusters=k, random_state=0).fit(X)\n",
    "    X_label = kmeans.labels_\n",
    "    ball_center = kmeans.cluster_centers_\n",
    "    cost = kmeans.inertia_ # Inertia = squared sum\n",
    "\n",
    "    r = math.sqrt(cost/(a*len(X)*math.log(len(X))))\n",
    "    coreset = []\n",
    "\n",
    "    while len(X)>0:\n",
    "        x = eps*r / math.sqrt(d)\n",
    "\n",
    "        grids = []\n",
    "        z = 2*math.ceil(r/x)\n",
    "        # We have z*z cells per ball\n",
    "        # Initialize array that stores grids\n",
    "        for i in range(k):\n",
    "            # We make the squares for each ball.\n",
    "            grid = [ [0]*z for i in range(z)]\n",
    "            grids.append(grid)  \n",
    "\n",
    "        for idx, point in enumerate(X):\n",
    "            ball = X_label[idx] # The ball closest to this point.\n",
    "            c = ball_center[ball] # Centre of this ball\n",
    "            if dist(point,c) <= r: # The point lies inside the ball\n",
    "                grid = grids[ball] # The grid of this ball\n",
    "                # compute the grid cell\n",
    "                hor_idx = math.floor((point[0]-c[0])/x)+math.ceil(r/x)\n",
    "                ver_idx = math.floor((point[1]-c[1])/x)+math.ceil(r/x)\n",
    "                if grid[hor_idx][ver_idx] == 0:\n",
    "                    # The cell is still empty, so we indicate that the cell is no longer empty\n",
    "                    grid[hor_idx][ver_idx] = 1\n",
    "                    coreset.append(point)\n",
    "                # The point has now been assigned to a (non-empty) cell so we can remove it from X and forget about it.\n",
    "                X.pop(idx)\n",
    "        #Double r for  next iteration.\n",
    "        r = r*2\n",
    "    return coreset"
   ]
  },
  {
   "cell_type": "code",
   "execution_count": 88,
   "id": "cac87616",
   "metadata": {},
   "outputs": [],
   "source": [
    "def coreset_plus_plus(pointset, k, eps = 0.1):\n",
    "    centroids, distances, cost = k_means_plus_plus(X, k)\n",
    "    \n",
    "    a = 1 # parameter used for approximation of OPT\n",
    "    d = 2 # dimensinality\n",
    "    \n",
    "    n = len(pointset)\n",
    "    r = math.sqrt(cost / (a * n * math.log(n)))\n",
    "\n",
    "    coreset = []\n",
    "\n",
    "    # (p, (dist. to closest c, coord's of closest c))\n",
    "    X = zip(pointset, distances).copy()\n",
    "\n",
    "    while len(X) > 0:\n",
    "        x = eps * r / math.sqrt(d)\n",
    "\n",
    "        grids = []\n",
    "        z = 2 * math.ceil(r/x)\n",
    "\n",
    "        # We have z*z cells per ball\n",
    "        # Initialize array that stores grids\n",
    "        for i in range(k):\n",
    "            # We make the squares for each ball.\n",
    "            grid = [ [0]*z for i in range(z) ]\n",
    "            grids.append(grid)\n",
    "\n",
    "        # TODO:\n",
    "        for p, (d, c) in X:            \n",
    "            if d <= r: # p lies inside the ball\n",
    "                grid = grids[ball] # grid of this ball\n",
    "                \n",
    "                # compute the grid cell\n",
    "                hor_idx = math.floor((point[0]-c[0])/x)+math.ceil(r/x)\n",
    "                ver_idx = math.floor((point[1]-c[1])/x)+math.ceil(r/x)\n",
    "                if grid[hor_idx][ver_idx] == 0:\n",
    "                    # The cell is still empty, so we indicate that the cell is no longer empty\n",
    "                    grid[hor_idx][ver_idx] = 1\n",
    "                    coreset.append(point)\n",
    "                \n",
    "                # The point has now been assigned to a (non-empty) cell so we can remove it from X and forget about it.\n",
    "                X.pop(idx)\n",
    "\n",
    "        r = r*2\n",
    "\n",
    "    return coreset"
   ]
  },
  {
   "cell_type": "code",
   "execution_count": 2,
   "id": "57a971ba",
   "metadata": {},
   "outputs": [
    {
     "data": {
      "image/png": "[encoded data removed]",
      "text/plain": [
       "<Figure size 432x288 with 1 Axes>"
      ]
     },
     "metadata": {
      "needs_background": "light"
     },
     "output_type": "display_data"
    },
    {
     "data": {
      "image/png": "[encoded data removed]",
      "text/plain": [
       "<Figure size 432x288 with 1 Axes>"
      ]
     },
     "metadata": {
      "needs_background": "light"
     },
     "output_type": "display_data"
    }
   ],
   "source": [
    "#X = list(np.random.rand(5000, 2))\n",
    "X = list(make_blobs(n_samples=50)[0])\n",
    "\n",
    "res = coreset(X, 3, 0.5)\n",
    "\n",
    "\n",
    "\n",
    "plt.scatter(np.array(X)[:,0],np.array(X)[:,1])\n",
    "plt.show()\n",
    "plt.scatter(np.array(res)[:,0],np.array(res)[:,1])\n",
    "plt.show()"
   ]
  },
  {
   "cell_type": "markdown",
   "id": "50ab3084",
   "metadata": {},
   "source": [
    "# The parrallel stuff"
   ]
  },
  {
   "cell_type": "code",
   "execution_count": 3,
   "id": "de6140e2",
   "metadata": {},
   "outputs": [
    {
     "name": "stderr",
     "output_type": "stream",
     "text": [
      "WARNING: An illegal reflective access operation has occurred\n",
      "WARNING: Illegal reflective access by org.apache.spark.unsafe.Platform (file:/usr/local/spark-3.2.0-bin-hadoop3.2/jars/spark-unsafe_2.12-3.2.0.jar) to constructor java.nio.DirectByteBuffer(long,int)\n",
      "WARNING: Please consider reporting this to the maintainers of org.apache.spark.unsafe.Platform\n",
      "WARNING: Use --illegal-access=warn to enable warnings of further illegal reflective access operations\n",
      "WARNING: All illegal access operations will be denied in a future release\n",
      "Using Spark's default log4j profile: org/apache/spark/log4j-defaults.properties\n",
      "Setting default log level to \"WARN\".\n",
      "To adjust logging level use sc.setLogLevel(newLevel). For SparkR, use setLogLevel(newLevel).\n",
      "22/01/11 11:38:01 WARN NativeCodeLoader: Unable to load native-hadoop library for your platform... using builtin-java classes where applicable\n"
     ]
    }
   ],
   "source": [
    "conf = SparkConf().setAppName('Coreset')\n",
    "sc = SparkContext.getOrCreate(conf=conf)\n",
    "\n",
    "\n",
    "# This performs the action of going up one layer in the tree from the lectures,\n",
    "# we give every partion an id, divide it by two such that two partitions share the same key.\n",
    "# Then we group by the key. This halves the number of partitions. Then we throw away the keys and \n",
    "# we apply the flatmap to obtain one collection of points.\n",
    "def mergeLayer(rdd):\n",
    "    size = math.ceil(rdd.getNumPartitions()/2)\n",
    "    return rdd.mapPartitionsWithIndex(lambda idx, a:  [(math.floor(idx/2),l) for l in a]).groupByKey(size).values().flatMap(list)\n"
   ]
  },
  {
   "cell_type": "code",
   "execution_count": 4,
   "id": "907de354",
   "metadata": {},
   "outputs": [
    {
     "name": "stdout",
     "output_type": "stream",
     "text": [
      "707\n"
     ]
    },
    {
     "name": "stderr",
     "output_type": "stream",
     "text": [
      "[Stage 7:>                                                          (0 + 6) / 6]\r"
     ]
    },
    {
     "name": "stdout",
     "output_type": "stream",
     "text": [
      "time taken 148.8533284664154\n"
     ]
    },
    {
     "name": "stderr",
     "output_type": "stream",
     "text": [
      "\r",
      "                                                                                \r"
     ]
    }
   ],
   "source": [
    "k = 3\n",
    "eps = 0.2\n",
    "\n",
    "X = list(make_blobs(n_samples=500000)[0])\n",
    "machines = math.floor(math.sqrt(len(X)))\n",
    "print(machines)\n",
    "\n",
    "start_time = time.time()\n",
    "RDD = sc.parallelize(X, machines)\n",
    "\n",
    "partitions = RDD.getNumPartitions()\n",
    "while partitions > 1:\n",
    "    RDD = RDD.mapPartitions(lambda points : coreset(points,k,eps))\n",
    "    RDD = mergeLayer(RDD)\n",
    "    partitions = RDD.getNumPartitions()\n",
    "    \n",
    "res = coreset(RDD.collect(),k,eps)\n",
    "end_time = time.time()\n",
    "\n",
    "print(\"time taken\", end_time-start_time)"
   ]
  },
  {
   "cell_type": "code",
   "execution_count": 5,
   "id": "3f884ebd",
   "metadata": {},
   "outputs": [
    {
     "data": {
      "image/png": "[encoded data removed]",
      "text/plain": [
       "<Figure size 432x288 with 1 Axes>"
      ]
     },
     "metadata": {
      "needs_background": "light"
     },
     "output_type": "display_data"
    },
    {
     "data": {
      "image/png": "[encoded data removed]",
      "text/plain": [
       "<Figure size 432x288 with 1 Axes>"
      ]
     },
     "metadata": {
      "needs_background": "light"
     },
     "output_type": "display_data"
    }
   ],
   "source": [
    "plt.scatter(np.array(X)[:,0],np.array(X)[:,1])\n",
    "plt.show()\n",
    "plt.scatter(np.array(res)[:,0],np.array(res)[:,1])\n",
    "plt.show()"
   ]
  },
  {
   "cell_type": "code",
   "execution_count": null,
   "id": "a01be74e",
   "metadata": {},
   "outputs": [],
   "source": []
  }
 ],
 "metadata": {
  "kernelspec": {
   "display_name": "Python 3 (ipykernel)",
   "language": "python",
   "name": "python3"
  },
  "language_info": {
   "codemirror_mode": {
    "name": "ipython",
    "version": 3
   },
   "file_extension": ".py",
   "mimetype": "text/x-python",
   "name": "python",
   "nbconvert_exporter": "python",
   "pygments_lexer": "ipython3",
   "version": "3.9.7"
  }
 },
 "nbformat": 4,
 "nbformat_minor": 5
}
