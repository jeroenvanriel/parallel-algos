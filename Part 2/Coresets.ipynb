{
 "cells": [
  {
   "cell_type": "markdown",
   "id": "27f87ec6",
   "metadata": {},
   "source": [
    "# The coreset Algo"
   ]
  },
  {
   "cell_type": "code",
   "execution_count": 1,
   "id": "948bebd2",
   "metadata": {},
   "outputs": [],
   "source": [
    "import math\n",
    "import csv\n",
    "import numpy as np\n",
    "import random\n",
    "import matplotlib.pyplot as plt\n",
    "import scipy.spatial\n",
    "import os\n",
    "from sklearn.cluster import KMeans\n",
    "from sklearn.datasets import make_circles, make_moons, make_blobs, make_swiss_roll, make_s_curve\n",
    "from pyspark import RDD, SparkConf, SparkContext\n",
    "import time\n",
    "\n",
    "#X = list(np.random.rand(50, 2))\n",
    "\n",
    "def dist(p1, p2):\n",
    "    sub = [a_i - b_i for a_i, b_i in zip(p1, p2)]\n",
    "    return np.linalg.norm(sub,2)\n",
    "\n",
    "def coreset(pointset, k, eps = 0.1):\n",
    "    X = list(pointset).copy()\n",
    "    \n",
    "    a = 1 # IDK waar die a vandaan komt, en welke waarde dat ie moet hebben\n",
    "    d = 2 # dimensinality\n",
    "\n",
    "    kmeans = KMeans(n_clusters=k, random_state=0).fit(X)\n",
    "    X_label = kmeans.labels_\n",
    "    ball_center = kmeans.cluster_centers_\n",
    "\n",
    "    cost = kmeans.inertia_ # Inertia = squared sum\n",
    "\n",
    "    r = math.sqrt(cost/(a*len(X)*math.log(len(X))))\n",
    "    coreset = []\n",
    "\n",
    "    while len(X)>0:\n",
    "        x = eps*r / math.sqrt(d)\n",
    "\n",
    "        grids = []\n",
    "        z = 2*math.ceil(r/x)\n",
    "        # We have z*z cells per ball\n",
    "        # Initialize array that stores grids\n",
    "        for i in range(k):\n",
    "            # We make the squares for each ball.\n",
    "            grid = [ [0]*z for i in range(z)]\n",
    "            grids.append(grid)  \n",
    "\n",
    "        for idx, point in enumerate(X):\n",
    "            ball = X_label[idx] # The ball closest to this point.\n",
    "            c = ball_center[ball] # Centre of this ball\n",
    "            if dist(point,c) <= r: # The point lies inside the ball\n",
    "                grid = grids[ball] # The grid of this ball\n",
    "                # compute the grid cell\n",
    "                hor_idx = math.floor((point[0]-c[0])/x)+math.ceil(r/x)\n",
    "                ver_idx = math.floor((point[1]-c[1])/x)+math.ceil(r/x)\n",
    "                if grid[hor_idx][ver_idx] == 0:\n",
    "                    # The cell is still empty, so we indicate that the cell is no longer empty\n",
    "                    grid[hor_idx][ver_idx] = 1\n",
    "                    coreset.append(point)\n",
    "                # The point has now been assigned to a (non-empty) cell so we can remove it from X and forget about it.\n",
    "                X.pop(idx)\n",
    "        #Double r for  next iteration.\n",
    "        r = r*2\n",
    "    return coreset"
   ]
  },
  {
   "cell_type": "code",
   "execution_count": 2,
   "id": "57a971ba",
   "metadata": {},
   "outputs": [
    {
     "data": {
      "image/png": "[encoded data removed]",
      "text/plain": [
       "<Figure size 432x288 with 1 Axes>"
      ]
     },
     "metadata": {
      "needs_background": "light"
     },
     "output_type": "display_data"
    },
    {
     "data": {
      "image/png": "[encoded data removed]",
      "text/plain": [
       "<Figure size 432x288 with 1 Axes>"
      ]
     },
     "metadata": {
      "needs_background": "light"
     },
     "output_type": "display_data"
    }
   ],
   "source": [
    "#X = list(np.random.rand(5000, 2))\n",
    "X = list(make_blobs(n_samples=50)[0])\n",
    "\n",
    "res = coreset(X, 3, 0.5)\n",
    "\n",
    "\n",
    "\n",
    "plt.scatter(np.array(X)[:,0],np.array(X)[:,1])\n",
    "plt.show()\n",
    "plt.scatter(np.array(res)[:,0],np.array(res)[:,1])\n",
    "plt.show()"
   ]
  },
  {
   "cell_type": "markdown",
   "id": "50ab3084",
   "metadata": {},
   "source": [
    "# The parrallel stuff"
   ]
  },
  {
   "cell_type": "code",
   "execution_count": 3,
   "id": "de6140e2",
   "metadata": {},
   "outputs": [
    {
     "name": "stderr",
     "output_type": "stream",
     "text": [
      "WARNING: An illegal reflective access operation has occurred\n",
      "WARNING: Illegal reflective access by org.apache.spark.unsafe.Platform (file:/usr/local/spark-3.2.0-bin-hadoop3.2/jars/spark-unsafe_2.12-3.2.0.jar) to constructor java.nio.DirectByteBuffer(long,int)\n",
      "WARNING: Please consider reporting this to the maintainers of org.apache.spark.unsafe.Platform\n",
      "WARNING: Use --illegal-access=warn to enable warnings of further illegal reflective access operations\n",
      "WARNING: All illegal access operations will be denied in a future release\n",
      "Using Spark's default log4j profile: org/apache/spark/log4j-defaults.properties\n",
      "Setting default log level to \"WARN\".\n",
      "To adjust logging level use sc.setLogLevel(newLevel). For SparkR, use setLogLevel(newLevel).\n",
      "22/01/10 14:40:58 WARN NativeCodeLoader: Unable to load native-hadoop library for your platform... using builtin-java classes where applicable\n"
     ]
    }
   ],
   "source": [
    "conf = SparkConf().setAppName('Coreset')\n",
    "sc = SparkContext.getOrCreate(conf=conf)\n",
    "\n",
    "\n",
    "# This performs the action of going up one layer in the tree from the lectures,\n",
    "# we give every partion an id, divide it by two such that two partitions share the same key.\n",
    "# Then we group by the key. This halves the number of partitions. Then we throw away the keys and \n",
    "# we apply the flatmap to obtain one collection of points.\n",
    "def mergeLayer(rdd):\n",
    "    size = math.ceil(rdd.getNumPartitions()/2)\n",
    "    return rdd.mapPartitionsWithIndex(lambda idx, a:  [(math.floor(idx/2),l) for l in a]).groupByKey(size).values().flatMap(list)\n"
   ]
  },
  {
   "cell_type": "code",
   "execution_count": 9,
   "id": "907de354",
   "metadata": {},
   "outputs": [
    {
     "name": "stdout",
     "output_type": "stream",
     "text": [
      "707\n"
     ]
    },
    {
     "name": "stderr",
     "output_type": "stream",
     "text": [
      "22/01/10 14:45:45 WARN TaskSetManager: Stage 16 contains a task of very large size (2512 KiB). The maximum recommended task size is 1000 KiB.\n",
      "[Stage 17:=============================>                            (2 + 2) / 4]\r"
     ]
    },
    {
     "name": "stdout",
     "output_type": "stream",
     "text": [
      "time taken 15.613184213638306\n"
     ]
    },
    {
     "name": "stderr",
     "output_type": "stream",
     "text": [
      "                                                                                \r"
     ]
    }
   ],
   "source": [
    "k = 3\n",
    "eps = 0.2\n",
    "\n",
    "X = list(make_blobs(n_samples=500000)[0])\n",
    "machines = math.floor(math.sqrt(len(X)))\n",
    "print(machines)\n",
    "\n",
    "start_time = time.time()\n",
    "RDD = sc.parallelize(X, machines)\n",
    "\n",
    "partitions = RDD.getNumPartitions()\n",
    "while partitions > 1:\n",
    "    RDD = RDD.mapPartitions(lambda points : coreset(points,k,eps))\n",
    "    RDD = mergeLayer(RDD)\n",
    "    partitions = RDD.getNumPartitions()\n",
    "    \n",
    "res = coreset(RDD.collect(),k,eps)\n",
    "end_time = time.time()\n",
    "\n",
    "print(\"time taken\", end_time-start_time)"
   ]
  },
  {
   "cell_type": "code",
   "execution_count": 10,
   "id": "3f884ebd",
   "metadata": {},
   "outputs": [
    {
     "data": {
      "image/png": "[encoded data removed]",
      "text/plain": [
       "<Figure size 432x288 with 1 Axes>"
      ]
     },
     "metadata": {
      "needs_background": "light"
     },
     "output_type": "display_data"
    },
    {
     "data": {
      "image/png": "[encoded data removed]",
      "text/plain": [
       "<Figure size 432x288 with 1 Axes>"
      ]
     },
     "metadata": {
      "needs_background": "light"
     },
     "output_type": "display_data"
    }
   ],
   "source": [
    "plt.scatter(np.array(X)[:,0],np.array(X)[:,1])\n",
    "plt.show()\n",
    "plt.scatter(np.array(res)[:,0],np.array(res)[:,1])\n",
    "plt.show()"
   ]
  },
  {
   "cell_type": "code",
   "execution_count": null,
   "id": "a01be74e",
   "metadata": {},
   "outputs": [],
   "source": []
  }
 ],
 "metadata": {
  "kernelspec": {
   "display_name": "Python 3 (ipykernel)",
   "language": "python",
   "name": "python3"
  },
  "language_info": {
   "codemirror_mode": {
    "name": "ipython",
    "version": 3
   },
   "file_extension": ".py",
   "mimetype": "text/x-python",
   "name": "python",
   "nbconvert_exporter": "python",
   "pygments_lexer": "ipython3",
   "version": "3.9.7"
  }
 },
 "nbformat": 4,
 "nbformat_minor": 5
}
