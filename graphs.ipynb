{
 "cells": [
  {
   "cell_type": "code",
   "execution_count": 1,
   "id": "7a39ec19",
   "metadata": {},
   "outputs": [
    {
     "name": "stderr",
     "output_type": "stream",
     "text": [
      "WARNING: An illegal reflective access operation has occurred\n",
      "WARNING: Illegal reflective access by org.apache.spark.unsafe.Platform (file:/usr/local/spark-3.2.0-bin-hadoop3.2/jars/spark-unsafe_2.12-3.2.0.jar) to constructor java.nio.DirectByteBuffer(long,int)\n",
      "WARNING: Please consider reporting this to the maintainers of org.apache.spark.unsafe.Platform\n",
      "WARNING: Use --illegal-access=warn to enable warnings of further illegal reflective access operations\n",
      "WARNING: All illegal access operations will be denied in a future release\n",
      "Using Spark's default log4j profile: org/apache/spark/log4j-defaults.properties\n",
      "Setting default log level to \"WARN\".\n",
      "To adjust logging level use sc.setLogLevel(newLevel). For SparkR, use setLogLevel(newLevel).\n",
      "21/12/21 09:18:35 WARN NativeCodeLoader: Unable to load native-hadoop library for your platform... using builtin-java classes where applicable\n"
     ]
    }
   ],
   "source": [
    "from pyspark.sql import SparkSession\n",
    "spark = SparkSession.builder.master(\"local[4]\").appName(\"MPC\").getOrCreate()\n",
    "sc = spark.sparkContext"
   ]
  },
  {
   "cell_type": "code",
   "execution_count": 5,
   "id": "ab28c1df",
   "metadata": {},
   "outputs": [],
   "source": [
    "n = 20\n",
    "m = 20\n",
    "max_weight = 10\n",
    "\n",
    "import networkx as nx\n",
    "from random import randrange\n",
    "\n",
    "# create a random graph\n",
    "vertices = range(n)\n",
    "edges = [(randrange(n), randrange(n), randrange(max_weight)) for _ in range(m)]\n",
    "\n",
    "def save_graph(G, filename='graph.txt'):\n",
    "    # persist to file\n",
    "    nx.write_adjlist(G, file)\n",
    "\n",
    "def load_graph(filename='graph.txt'):\n",
    "    # read from file\n",
    "    return nx.read_adjlist(filename)"
   ]
  },
  {
   "cell_type": "code",
   "execution_count": 6,
   "id": "6b08a03f",
   "metadata": {},
   "outputs": [],
   "source": [
    "import matplotlib.pyplot as plt\n",
    "\n",
    "def draw_edges(vertices, edges, color_map, ax):\n",
    "    G = nx.Graph() # empty graph\n",
    "    G.add_nodes_from(vertices)\n",
    "    G.add_weighted_edges_from(edges)\n",
    "\n",
    "    # uses a force-directed simulation, better for large graphs\n",
    "    pos = nx.spring_layout(G, k=1, iterations=10)\n",
    "\n",
    "    # positions the nodes deterministically in ccw order, which is pretty nice for toy graphs\n",
    "    #pos = nx.shell_layout(G)\n",
    "\n",
    "    labels = nx.get_edge_attributes(G, 'weight')\n",
    "\n",
    "    nx.draw(G, pos, ax, node_color=color_map, with_labels=True);\n",
    "    nx.draw_networkx_edge_labels(G, pos, ax=ax, edge_labels=labels);"
   ]
  },
  {
   "cell_type": "code",
   "execution_count": 9,
   "id": "f6147c88",
   "metadata": {
    "scrolled": false
   },
   "outputs": [
    {
     "name": "stdout",
     "output_type": "stream",
     "text": [
      "0: {4: {'weight': 7}, 9: {'weight': 8}}\n",
      "1: {5: {'weight': 5}, 6: {'weight': 4}, 14: {'weight': 9}, 12: {'weight': 4}}\n",
      "2: {18: {'weight': 3}, 7: {'weight': 4}, 16: {'weight': 7}, 15: {'weight': 1}}\n",
      "3: {8: {'weight': 8}, 13: {'weight': 0}}\n",
      "4: {18: {'weight': 0}, 0: {'weight': 7}, 19: {'weight': 1}}\n",
      "5: {1: {'weight': 5}}\n",
      "6: {14: {'weight': 7}, 1: {'weight': 4}}\n",
      "7: {10: {'weight': 3}, 2: {'weight': 4}}\n",
      "8: {3: {'weight': 8}}\n",
      "9: {0: {'weight': 8}}\n",
      "10: {7: {'weight': 3}}\n",
      "11: {}\n",
      "12: {18: {'weight': 9}, 1: {'weight': 4}}\n",
      "13: {13: {'weight': 8}, 3: {'weight': 0}}\n",
      "14: {6: {'weight': 7}, 14: {'weight': 9}, 1: {'weight': 9}}\n",
      "15: {2: {'weight': 1}}\n",
      "16: {2: {'weight': 7}}\n",
      "17: {}\n",
      "18: {12: {'weight': 9}, 2: {'weight': 3}, 4: {'weight': 0}}\n",
      "19: {4: {'weight': 1}}\n"
     ]
    }
   ],
   "source": [
    "G = nx.Graph() # empty graph\n",
    "G.add_nodes_from(vertices)\n",
    "G.add_weighted_edges_from(edges)\n",
    "\n",
    "\n",
    "# access the adjaceny list of G\n",
    "for n in G:\n",
    "    print(str(n) + \": \" + str(G[n]))"
   ]
  },
  {
   "cell_type": "code",
   "execution_count": 10,
   "id": "4fc3ee55",
   "metadata": {},
   "outputs": [],
   "source": [
    "def nearest_neighbor(adj_item):\n",
    "    \"\"\"Compute the nearest neighbor, if it exists, based on weights.\"\"\"\n",
    "    \n",
    "    # TODO: can this be done more elegantly?\n",
    "    u = adj_item[0]\n",
    "    ngbs = adj_item[1]\n",
    "    \n",
    "    if len(ngbs) == 0:\n",
    "        return u, u\n",
    "    else:\n",
    "        nn = min(ngbs, key=lambda x: x[1])\n",
    "        return u, nn[0]"
   ]
  },
  {
   "cell_type": "code",
   "execution_count": 11,
   "id": "e48afdeb",
   "metadata": {},
   "outputs": [],
   "source": [
    "def contract_map(nn_br):\n",
    "    # get the broadcasted value\n",
    "    nn = nn_br.value\n",
    "\n",
    "    def inner(adj_item):\n",
    "        \"\"\"Compute the label for each (u, ngbs) pair.\"\"\"\n",
    "\n",
    "        # TODO: can this be done more elegantly?\n",
    "        u = adj_item[0]\n",
    "        ngbs = adj_item[1]\n",
    "\n",
    "        c = u\n",
    "        v = u\n",
    "        S = set()\n",
    "        while v not in S:\n",
    "            S.add(v)\n",
    "            c = v\n",
    "            v = nn[v]\n",
    "\n",
    "        label = min(c, v)\n",
    "\n",
    "        return label, (u, ngbs)\n",
    "\n",
    "    return inner"
   ]
  },
  {
   "cell_type": "code",
   "execution_count": 12,
   "id": "acaeb75a",
   "metadata": {
    "scrolled": true
   },
   "outputs": [
    {
     "name": "stderr",
     "output_type": "stream",
     "text": [
      "                                                                                \r"
     ]
    },
    {
     "data": {
      "text/plain": [
       "[(0, [(4, 7), (9, 8)]),\n",
       " (1, [(5, 5), (6, 4), (14, 9), (12, 4)]),\n",
       " (2, [(18, 3), (7, 4), (16, 7), (15, 1)]),\n",
       " (3, [(8, 8), (13, 0)]),\n",
       " (4, [(18, 0), (0, 7), (19, 1)]),\n",
       " (5, [(1, 5)]),\n",
       " (6, [(14, 7), (1, 4)]),\n",
       " (7, [(10, 3), (2, 4)]),\n",
       " (8, [(3, 8)]),\n",
       " (9, [(0, 8)]),\n",
       " (10, [(7, 3)]),\n",
       " (11, []),\n",
       " (12, [(18, 9), (1, 4)]),\n",
       " (13, [(13, 8), (3, 0)]),\n",
       " (14, [(6, 7), (14, 9), (1, 9)]),\n",
       " (15, [(2, 1)]),\n",
       " (16, [(2, 7)]),\n",
       " (17, []),\n",
       " (18, [(12, 9), (2, 3), (4, 0)]),\n",
       " (19, [(4, 1)])]"
      ]
     },
     "execution_count": 12,
     "metadata": {},
     "output_type": "execute_result"
    }
   ],
   "source": [
    "# create a rdd for the adjancency list\n",
    "adj = sc.parallelize(G.adj.items())\n",
    "\n",
    "adj = adj.map(lambda z: (z[0], [(v, w['weight']) for v,w in z[1].items()]))\n",
    "adj.collect()"
   ]
  },
  {
   "cell_type": "code",
   "execution_count": 270,
   "id": "cfdcd25b",
   "metadata": {},
   "outputs": [],
   "source": [
    "# compute the nearest_neighbor mapping\n",
    "nn_local = dict(adj.map(nearest_neighbor).collect())\n",
    "\n",
    "# broadcast the closest neighbor mapping\n",
    "nn = sc.broadcast(nn_local)"
   ]
  },
  {
   "cell_type": "code",
   "execution_count": 271,
   "id": "d941dc54",
   "metadata": {},
   "outputs": [],
   "source": [
    "# compute labeling = { <label, <u, N(u)>> }\n",
    "# where N(u) = { <u, v, weight> }\n",
    "labeling = adj.map(contract_map(nn))\n",
    "#labeling.collect()"
   ]
  },
  {
   "cell_type": "code",
   "execution_count": 272,
   "id": "a7d10f97",
   "metadata": {
    "scrolled": true
   },
   "outputs": [],
   "source": [
    "# compute L = { <u, label> }\n",
    "L_local = dict(labeling.map(lambda z: (z[1][0], z[0])).collect())\n",
    "L = sc.broadcast(L_local)"
   ]
  },
  {
   "cell_type": "code",
   "execution_count": 385,
   "id": "4966d352",
   "metadata": {},
   "outputs": [],
   "source": [
    "def combiner(x, y):\n",
    "    x.update(y)\n",
    "    return x\n",
    "\n",
    "def merger(x, y):\n",
    "    return x.union(y)\n",
    "\n",
    "# compute N0 = { <label, N(label)> }\n",
    "# where N(label) = { (v, weight) }\n",
    "N0 = labeling.map(lambda z: (z[0], z[1][1])).aggregateByKey(set(), combiner, merger)\n",
    "#N0.collect()"
   ]
  },
  {
   "cell_type": "code",
   "execution_count": 274,
   "id": "cbcb9d75",
   "metadata": {},
   "outputs": [],
   "source": [
    "# translate to leaders\n",
    "N1 = N0.map(lambda x: (x[0], { L.value[v] for v, w in x[1] }))\n",
    "#N1.collect()"
   ]
  },
  {
   "cell_type": "code",
   "execution_count": 283,
   "id": "5a8ed24a",
   "metadata": {},
   "outputs": [],
   "source": [
    "# remove self-loops\n",
    "N2 = N1.map(lambda x: (x[0], x[1].difference({x[0]})))\n",
    "#N2.collect()"
   ]
  },
  {
   "cell_type": "code",
   "execution_count": 276,
   "id": "8e528dd8",
   "metadata": {},
   "outputs": [],
   "source": [
    "# compute <(label, L(v)), (u, v, weight)>\n",
    "E0 = labeling.flatMap(lambda z: [((z[0], L.value[v]), (z[1][0], v, w)) for v, w in z[1][1] if L.value[v] != z[0]])\n",
    "#E0.collect()"
   ]
  },
  {
   "cell_type": "code",
   "execution_count": 386,
   "id": "451f12cc",
   "metadata": {},
   "outputs": [],
   "source": [
    "def reduce(x, y):\n",
    "    x_w = x[2]\n",
    "    y_w = y[2]\n",
    "    \n",
    "    if x_w <= y_w:\n",
    "        return x\n",
    "    else:\n",
    "        return y\n",
    "\n",
    "# compute the smallest edges between super-vertices\n",
    "# <(label, label(v)), argmin_(u, v, weight) weight>\n",
    "E1 = E0.reduceByKey(reduce)\n",
    "#E1.collect()"
   ]
  },
  {
   "cell_type": "code",
   "execution_count": 281,
   "id": "b952a655",
   "metadata": {},
   "outputs": [],
   "source": [
    "# the adjaceny list for the next iteration\n",
    "E2 = E1.map(lambda z: (z[0][0], (z[0][1], z[1][2])))\n",
    "E2 = E2.groupByKey().map(lambda z: (z[0], list(z[1])))\n",
    "#E2.collect()"
   ]
  },
  {
   "cell_type": "code",
   "execution_count": 415,
   "id": "83715d21",
   "metadata": {},
   "outputs": [
    {
     "name": "stdout",
     "output_type": "stream",
     "text": [
      "[(0, []), (1, [(16, 3), (10, 4)]), (2, [(10, 7)]), (3, [(16, 9), (10, 0), (19, 7), (8, 0)]), (4, [(10, 2)]), (5, [(13, 4), (16, 7)]), (6, []), (7, [(8, 6), (19, 5)]), (8, [(8, 3), (7, 6), (3, 0)]), (9, [(11, 1)]), (10, [(3, 0), (2, 7), (4, 2), (1, 4)]), (11, [(9, 1), (13, 8)]), (12, []), (13, [(5, 4), (11, 8)]), (14, [(15, 9)]), (15, [(16, 5), (14, 9)]), (16, [(3, 9), (15, 5), (1, 3), (5, 7)]), (17, []), (18, []), (19, [(3, 7), (7, 5)])]\n",
      "\n",
      "[(5, [(1, 7), (9, 8)]), (9, [(5, 8)]), (1, [(5, 7), (3, 4)]), (3, [(7, 6), (1, 4)]), (7, [(3, 6)])]\n",
      "\n",
      "[]\n",
      "\n"
     ]
    },
    {
     "data": {
      "image/png": "[encoded data removed]",
      "text/plain": [
       "<Figure size 360x936 with 3 Axes>"
      ]
     },
     "metadata": {},
     "output_type": "display_data"
    }
   ],
   "source": [
    "# TODO: make sure we don't need this\n",
    "G = nx.Graph() # empty graph\n",
    "G.add_nodes_from(vertices)\n",
    "G.add_weighted_edges_from(edges)\n",
    "\n",
    "# create first rdd for the adjancency list\n",
    "adj = sc.parallelize(G.adj.items())\n",
    "adj = adj.map(lambda z: (z[0], [(v, w['weight']) for v,w in z[1].items()]))\n",
    "\n",
    "n_iterations = 2\n",
    "\n",
    "f, ax = plt.subplots(n_iterations + 1)\n",
    "f.set_figheight(13)\n",
    "f.set_figwidth(5)\n",
    "color_map = ['blue' for _ in range(len(vertices))]\n",
    "def color(v):\n",
    "    colors = ['green', 'red', 'blue', 'orange', 'purple', 'yellow', 'magenta', 'darkblue']\n",
    "    return colors[v % len(colors)]\n",
    "\n",
    "for i in range(n_iterations):\n",
    "    # print the current adjacency list\n",
    "    print(adj.collect())\n",
    "    print()\n",
    "    \n",
    "    # draw the current graph\n",
    "    edges = adj.flatMap(lambda z: [(z[0], v, w) for v, w in z[1]]).collect()\n",
    "    draw_edges(vertices, edges, color_map, ax[i])\n",
    "\n",
    "    # compute the nearest_neighbor mapping\n",
    "    nn_local = dict(adj.map(nearest_neighbor).collect())\n",
    "\n",
    "    # broadcast the closest neighbor mapping\n",
    "    nn = sc.broadcast(nn_local)\n",
    "\n",
    "    labeling = adj.map(contract_map(nn))\n",
    "\n",
    "    L_local = dict(labeling.map(lambda z: (z[1][0], z[0])).collect())\n",
    "    L = sc.broadcast(L_local)\n",
    "    \n",
    "    for u, label in L_local.items():\n",
    "        color_map[u] = color(L_local[label])\n",
    "    \n",
    "    E0 = labeling.flatMap(lambda z: [((z[0], L.value[v]), (z[1][0], v, w)) for v, w in z[1][1] if L.value[v] != z[0]])\n",
    "    E1 = E0.reduceByKey(reduce)\n",
    "    adj = E1.map(lambda z: (z[0][0], (z[0][1], z[1][2]))).groupByKey().map(lambda z: (z[0], list(z[1])))\n",
    "    \n",
    "\n",
    "# print the current adjacency list\n",
    "print(adj.collect())\n",
    "print()\n",
    "    \n",
    "# draw the current graph\n",
    "edges = adj.flatMap(lambda z: [(z[0], v, w) for v, w in z[1]]).collect()\n",
    "draw_edges(vertices, edges, color_map, ax[n_iterations])"
   ]
  },
  {
   "cell_type": "code",
   "execution_count": null,
   "id": "c7967b97",
   "metadata": {},
   "outputs": [],
   "source": []
  }
 ],
 "metadata": {
  "kernelspec": {
   "display_name": "Python 3 (ipykernel)",
   "language": "python",
   "name": "python3"
  },
  "language_info": {
   "codemirror_mode": {
    "name": "ipython",
    "version": 3
   },
   "file_extension": ".py",
   "mimetype": "text/x-python",
   "name": "python",
   "nbconvert_exporter": "python",
   "pygments_lexer": "ipython3",
   "version": "3.9.7"
  }
 },
 "nbformat": 4,
 "nbformat_minor": 5
}
