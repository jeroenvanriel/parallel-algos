{
 "cells": [
  {
   "cell_type": "code",
   "execution_count": 1,
   "id": "53858560",
   "metadata": {
    "scrolled": true
   },
   "outputs": [
    {
     "name": "stderr",
     "output_type": "stream",
     "text": [
      "WARNING: An illegal reflective access operation has occurred\n",
      "WARNING: Illegal reflective access by org.apache.spark.unsafe.Platform (file:/usr/local/spark-3.2.0-bin-hadoop3.2/jars/spark-unsafe_2.12-3.2.0.jar) to constructor java.nio.DirectByteBuffer(long,int)\n",
      "WARNING: Please consider reporting this to the maintainers of org.apache.spark.unsafe.Platform\n",
      "WARNING: Use --illegal-access=warn to enable warnings of further illegal reflective access operations\n",
      "WARNING: All illegal access operations will be denied in a future release\n",
      "Using Spark's default log4j profile: org/apache/spark/log4j-defaults.properties\n",
      "Setting default log level to \"WARN\".\n",
      "To adjust logging level use sc.setLogLevel(newLevel). For SparkR, use setLogLevel(newLevel).\n",
      "21/12/13 20:05:54 WARN NativeCodeLoader: Unable to load native-hadoop library for your platform... using builtin-java classes where applicable\n"
     ]
    }
   ],
   "source": [
    "from pyspark.sql import SparkSession\n",
    "spark = SparkSession.builder.master(\"local[4]\").appName(\"MPC\").getOrCreate();"
   ]
  },
  {
   "cell_type": "code",
   "execution_count": 8,
   "id": "d884a74f",
   "metadata": {},
   "outputs": [],
   "source": [
    "# read some text file containing some duplicate words\n",
    "rdd = spark.sparkContext.textFile(\"./words.txt\")"
   ]
  },
  {
   "cell_type": "code",
   "execution_count": 9,
   "id": "2f2ac0b1",
   "metadata": {},
   "outputs": [],
   "source": [
    "# convert to a list of words\n",
    "rdd2 = rdd.flatMap(lambda x: x.split(' '))"
   ]
  },
  {
   "cell_type": "code",
   "execution_count": 10,
   "id": "e025093f",
   "metadata": {},
   "outputs": [],
   "source": [
    "# associate with each word the integer 1\n",
    "rdd3 = rdd2.map(lambda x: (x,1))"
   ]
  },
  {
   "cell_type": "code",
   "execution_count": 11,
   "id": "ec681905",
   "metadata": {},
   "outputs": [],
   "source": [
    "# reduce the integers by word value,\n",
    "# i.e. count the number of occurances\n",
    "rdd4 = rdd3.reduceByKey(lambda a,b: a+b)"
   ]
  },
  {
   "cell_type": "code",
   "execution_count": 12,
   "id": "a0fcfb63",
   "metadata": {},
   "outputs": [
    {
     "name": "stdout",
     "output_type": "stream",
     "text": [
      "[('Adventures', 18), ('Alice’s', 18), ('Carroll', 18), ('Gutenberg’s', 9), ('Lewis', 18), ('Project', 9), ('This', 27), ('Wonderland', 18), ('and', 27), ('anyone', 27), ('anywhere', 27), ('at', 27), ('by', 18), ('cost', 27), ('eBook', 27), ('for', 27), ('in', 18), ('is', 27), ('no', 27), ('of', 27), ('the', 27), ('use', 27), ('with', 27)]\n"
     ]
    }
   ],
   "source": [
    "# sort by word value\n",
    "rdd5 = rdd4.sortByKey(lambda x: (x[1],x[0])).sortByKey()\n",
    "print(rdd5.collect())"
   ]
  },
  {
   "cell_type": "code",
   "execution_count": 13,
   "id": "4e5b0fc7",
   "metadata": {},
   "outputs": [
    {
     "name": "stdout",
     "output_type": "stream",
     "text": [
      "[('and', 27), ('anyone', 27), ('anywhere', 27), ('at', 27)]\n"
     ]
    }
   ],
   "source": [
    "# filter out the words starting with an 'a'\n",
    "rdd6 = rdd5.filter(lambda x: 'a' in x[0][0])\n",
    "\n",
    "print(rdd6.collect())"
   ]
  },
  {
   "cell_type": "code",
   "execution_count": null,
   "id": "c4d48333",
   "metadata": {},
   "outputs": [],
   "source": []
  }
 ],
 "metadata": {
  "kernelspec": {
   "display_name": "Python 3 (ipykernel)",
   "language": "python",
   "name": "python3"
  },
  "language_info": {
   "codemirror_mode": {
    "name": "ipython",
    "version": 3
   },
   "file_extension": ".py",
   "mimetype": "text/x-python",
   "name": "python",
   "nbconvert_exporter": "python",
   "pygments_lexer": "ipython3",
   "version": "3.9.7"
  }
 },
 "nbformat": 4,
 "nbformat_minor": 5
}
